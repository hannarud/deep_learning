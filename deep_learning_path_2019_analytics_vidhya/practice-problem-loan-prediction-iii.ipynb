{
 "cells": [
  {
   "cell_type": "markdown",
   "metadata": {},
   "source": [
    "# Loan prediction III\n",
    "\n",
    "Solution for https://datahack.analyticsvidhya.com/contest/practice-problem-loan-prediction-iii/\n",
    "\n",
    "Created: 05/08/2019, author: Hanna Paulava"
   ]
  },
  {
   "cell_type": "code",
   "execution_count": null,
   "metadata": {},
   "outputs": [],
   "source": [
    "# Imports\n",
    "import os\n",
    "import numpy as np\n",
    "import pandas as pd\n",
    "import matplotlib.pyplot as plt\n",
    "%matplotlib inline\n",
    "\n",
    "from sklearn.model_selection import cross_val_score\n",
    "from sklearn.ensemble import RandomForestClassifier\n",
    "from sklearn.feature_selection import SelectFromModel"
   ]
  },
  {
   "cell_type": "code",
   "execution_count": null,
   "metadata": {},
   "outputs": [],
   "source": [
    "# Load data\n",
    "data_train = pd.read_csv('data/practice-problem-loan-prediction-iii/train_u6lujuX_CVtuZ9i.txt')\n",
    "data_test = pd.read_csv('data/practice-problem-loan-prediction-iii/test_Y3wMUE5_7gLdaTN.txt')"
   ]
  },
  {
   "cell_type": "code",
   "execution_count": null,
   "metadata": {},
   "outputs": [],
   "source": [
    "# Explore data\n",
    "data_train.shape"
   ]
  },
  {
   "cell_type": "code",
   "execution_count": null,
   "metadata": {},
   "outputs": [],
   "source": [
    "data_test.shape"
   ]
  },
  {
   "cell_type": "code",
   "execution_count": null,
   "metadata": {},
   "outputs": [],
   "source": [
    "data_train.head()"
   ]
  },
  {
   "cell_type": "code",
   "execution_count": null,
   "metadata": {},
   "outputs": [],
   "source": [
    "data_train.describe()"
   ]
  },
  {
   "cell_type": "code",
   "execution_count": null,
   "metadata": {},
   "outputs": [],
   "source": [
    "data_test.describe()"
   ]
  },
  {
   "cell_type": "code",
   "execution_count": null,
   "metadata": {},
   "outputs": [],
   "source": [
    "data_train.isnull().sum()"
   ]
  },
  {
   "cell_type": "code",
   "execution_count": null,
   "metadata": {},
   "outputs": [],
   "source": [
    "data_test.isnull().sum()"
   ]
  },
  {
   "cell_type": "code",
   "execution_count": null,
   "metadata": {},
   "outputs": [],
   "source": [
    "data_train['Loan_Amount_Term'].value_counts()"
   ]
  },
  {
   "cell_type": "code",
   "execution_count": null,
   "metadata": {},
   "outputs": [],
   "source": [
    "data_test['Loan_Amount_Term'].value_counts()"
   ]
  },
  {
   "cell_type": "code",
   "execution_count": null,
   "metadata": {},
   "outputs": [],
   "source": [
    "data_train['Credit_History'].value_counts()"
   ]
  },
  {
   "cell_type": "code",
   "execution_count": null,
   "metadata": {},
   "outputs": [],
   "source": [
    "data_test['Credit_History'].value_counts()"
   ]
  },
  {
   "cell_type": "code",
   "execution_count": null,
   "metadata": {},
   "outputs": [],
   "source": [
    "data_train['Property_Area'].value_counts()"
   ]
  },
  {
   "cell_type": "code",
   "execution_count": null,
   "metadata": {},
   "outputs": [],
   "source": [
    "data_test['Property_Area'].value_counts()"
   ]
  },
  {
   "cell_type": "code",
   "execution_count": null,
   "metadata": {},
   "outputs": [],
   "source": [
    "# Imputing NAs\n",
    "data_train['Gender'].fillna('Male', inplace=True)\n",
    "data_test['Gender'].fillna('Male', inplace=True)\n",
    "data_train['Married'].fillna('Yes', inplace=True)\n",
    "data_test['Married'].fillna('Yes', inplace=True)\n",
    "data_train['Dependents'].fillna(0, inplace=True)\n",
    "data_test['Dependents'].fillna(0, inplace=True)\n",
    "data_train['Education'].fillna('Graduate', inplace=True)\n",
    "data_test['Education'].fillna('Graduate', inplace=True)\n",
    "data_train['Self_Employed'].fillna('No', inplace=True)\n",
    "data_test['Self_Employed'].fillna('No', inplace=True)\n",
    "\n",
    "data_train['LoanAmount'].fillna(data_train['LoanAmount'].median(), inplace=True)\n",
    "data_test['LoanAmount'].fillna(data_train['LoanAmount'].median(), inplace=True) # Note! Filling with train data!\n",
    "data_train['Loan_Amount_Term'].fillna(360.0, inplace=True)\n",
    "data_test['Loan_Amount_Term'].fillna(360.0, inplace=True)\n",
    "data_train['Credit_History'].fillna(1.0, inplace=True)\n",
    "data_test['Credit_History'].fillna(1.0, inplace=True)\n",
    "\n",
    "# TODO: check that we don't allow NAs in ApplicantIncome, CoapplicantIncome for both trainset and testset\n",
    "# And in Loan_Status for trainset\n",
    "# TODO: also now we don't allow NAs in Property Area, but later we can maybe introduce some intelligent impute to there"
   ]
  },
  {
   "cell_type": "code",
   "execution_count": null,
   "metadata": {},
   "outputs": [],
   "source": [
    "# TODO: build an algorithm (using this first https://github.com/souravroy0708/ML_LoanPrediction/blob/master/LoanPrediction.ipynb)"
   ]
  }
 ],
 "metadata": {
  "kernelspec": {
   "display_name": "Python 3",
   "language": "python",
   "name": "python3"
  },
  "language_info": {
   "codemirror_mode": {
    "name": "ipython",
    "version": 3
   },
   "file_extension": ".py",
   "mimetype": "text/x-python",
   "name": "python",
   "nbconvert_exporter": "python",
   "pygments_lexer": "ipython3",
   "version": "3.6.4"
  }
 },
 "nbformat": 4,
 "nbformat_minor": 2
}
